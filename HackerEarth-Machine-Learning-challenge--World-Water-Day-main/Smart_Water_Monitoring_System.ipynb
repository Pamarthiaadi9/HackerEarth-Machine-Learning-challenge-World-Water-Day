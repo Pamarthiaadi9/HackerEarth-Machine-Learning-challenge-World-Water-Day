{
  "nbformat": 4,
  "nbformat_minor": 0,
  "metadata": {
    "colab": {
      "provenance": []
    },
    "kernelspec": {
      "name": "python3",
      "display_name": "Python 3"
    },
    "language_info": {
      "name": "python"
    }
  },
  "cells": [
    {
      "cell_type": "code",
      "execution_count": null,
      "metadata": {
        "id": "jdBsom2_BHw6"
      },
      "outputs": [],
      "source": [
        "import pandas as pd\n",
        "import numpy as np\n",
        "from sklearn.preprocessing import StandardScaler, LabelEncoder\n",
        "from sklearn.metrics import mean_absolute_error, mean_squared_error, r2_score\n",
        "import xgboost as xgb\n",
        "\n",
        "df = pd.read_csv(\"/content/train.csv\")\n",
        "df_test = pd.read_csv(\"/content/test.csv\")"
      ]
    },
    {
      "cell_type": "code",
      "source": [
        "def process_datetime(df):\n",
        "    df[\"Timestamp\"] = pd.to_datetime(df[\"Timestamp\"], errors=\"coerce\")\n",
        "    df[\"Hour\"] = df[\"Timestamp\"].dt.hour\n",
        "    df[\"Day\"] = df[\"Timestamp\"].dt.day\n",
        "    df[\"Month\"] = df[\"Timestamp\"].dt.month\n",
        "    df[\"DayOfWeek\"] = df[\"Timestamp\"].dt.dayofweek\n",
        "    df[\"IsWeekend\"] = (df[\"DayOfWeek\"] >= 5).astype(int)\n",
        "    df.drop(columns=[\"Timestamp\"], inplace=True)\n",
        "    return df\n",
        "\n",
        "df = process_datetime(df)\n",
        "df_test = process_datetime(df_test)"
      ],
      "metadata": {
        "id": "hD3JprKABei8"
      },
      "execution_count": null,
      "outputs": []
    },
    {
      "cell_type": "code",
      "source": [
        "def fill_missing_values(df):\n",
        "    num_cols = df.select_dtypes(include=[\"number\"]).columns\n",
        "    df[num_cols] = df[num_cols].fillna(df[num_cols].mean())\n",
        "\n",
        "    cat_cols = df.select_dtypes(include=[\"object\"]).columns\n",
        "    for col in cat_cols:\n",
        "        df[col] = df[col].fillna(df[col].mode()[0])\n",
        "    return df\n",
        "\n",
        "df = fill_missing_values(df)\n",
        "df_test = fill_missing_values(df_test)"
      ],
      "metadata": {
        "id": "DiM-qzpwBgNK"
      },
      "execution_count": null,
      "outputs": []
    },
    {
      "cell_type": "code",
      "source": [
        "def encode_categorical(df, label_encoders=None, is_train=True):\n",
        "    if label_encoders is None:\n",
        "        label_encoders = {}\n",
        "\n",
        "    cat_cols = df.select_dtypes(include=[\"object\"]).columns\n",
        "    for col in cat_cols:\n",
        "        if is_train:\n",
        "            label_encoders[col] = LabelEncoder()\n",
        "            df[col] = label_encoders[col].fit_transform(df[col])\n",
        "        else:\n",
        "            df[col] = df[col].map(lambda x: label_encoders[col].transform([x])[0] if x in label_encoders[col].classes_ else -1)\n",
        "\n",
        "    return df, label_encoders\n",
        "\n",
        "df, label_encoders = encode_categorical(df, is_train=True)\n",
        "df_test, _ = encode_categorical(df_test, label_encoders, is_train=False)"
      ],
      "metadata": {
        "id": "HVA7xnFVBjEf"
      },
      "execution_count": null,
      "outputs": []
    },
    {
      "cell_type": "code",
      "source": [
        "\n",
        "assert df.select_dtypes(include=[\"object\"]).empty, \"Data still contains categorical values!\"\n",
        "\n",
        "X = df.drop(columns=[\"Water_Consumption\"], errors='ignore')\n",
        "y = df[\"Water_Consumption\"] if \"Water_Consumption\" in df.columns else None\n",
        "X_test = df_test.copy()"
      ],
      "metadata": {
        "id": "lVpeg4etBrvr"
      },
      "execution_count": null,
      "outputs": []
    },
    {
      "cell_type": "code",
      "source": [
        "scaler = StandardScaler()\n",
        "X_scaled = scaler.fit_transform(X)\n",
        "X_test_scaled = scaler.transform(X_test)"
      ],
      "metadata": {
        "id": "2wdE6VW5BxYp"
      },
      "execution_count": null,
      "outputs": []
    },
    {
      "cell_type": "code",
      "source": [
        "xgb_model = xgb.XGBRegressor(objective=\"reg:squarederror\", n_estimators=600, learning_rate=0.03, max_depth=8, colsample_bytree=0.8)\n",
        "xgb_model.fit(X_scaled, y)\n",
        "y_pred = xgb_model.predict(X_scaled)\n",
        "y_test_pred = xgb_model.predict(X_test_scaled)\n",
        "\n",
        "mae = mean_absolute_error(y, y_pred)\n",
        "mse = mean_squared_error(y, y_pred)\n",
        "rmse = np.sqrt(mse)\n",
        "r2 = r2_score(y, y_pred)\n",
        "\n",
        "print(f\"MAE: {mae}\")\n",
        "print(f\"MSE: {mse}\")\n",
        "print(f\"RMSE: {rmse}\")\n",
        "print(f\"R2 Score: {r2}\")"
      ],
      "metadata": {
        "colab": {
          "base_uri": "https://localhost:8080/"
        },
        "id": "TyMOPlHgB0GW",
        "outputId": "93bfcb8c-663c-40b5-9571-2984d848dbfa"
      },
      "execution_count": null,
      "outputs": [
        {
          "output_type": "stream",
          "name": "stdout",
          "text": [
            "MAE: 2.6842165903036936\n",
            "MSE: 15.96904581026205\n",
            "RMSE: 3.9961288530604278\n",
            "R2 Score: 0.9969927742302399\n"
          ]
        }
      ]
    },
    {
      "cell_type": "code",
      "source": [
        "df_test_original = pd.read_csv(\"/content/test.csv\")\n",
        "df_test_original[\"Timestamp\"] = df_test_original[\"Timestamp\"].astype(str)\n",
        "\n",
        "submission = pd.DataFrame({\n",
        "    \"Timestamp\": df_test_original[\"Timestamp\"],\n",
        "    \"Water_Consumption\": np.round(y_test_pred, 2)\n",
        "})\n",
        "\n",
        "submission.to_csv(\"submission.csv\", index=False)\n",
        "\n",
        "print(\"Submission file created File Name: Submission.csv\")"
      ],
      "metadata": {
        "colab": {
          "base_uri": "https://localhost:8080/"
        },
        "id": "jXQ0ca3uB9S0",
        "outputId": "6b7c5703-2838-436b-9608-a15627d0022a"
      },
      "execution_count": null,
      "outputs": [
        {
          "output_type": "stream",
          "name": "stdout",
          "text": [
            "Submission file created File Name: Submission.csv\n"
          ]
        }
      ]
    }
  ]
}